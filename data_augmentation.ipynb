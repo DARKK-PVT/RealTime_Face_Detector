{
  "nbformat": 4,
  "nbformat_minor": 0,
  "metadata": {
    "colab": {
      "name": "data_augmentation.ipynb",
      "provenance": [],
      "collapsed_sections": [],
      "machine_shape": "hm",
      "mount_file_id": "1uVZyzCg9F2xy1o18YHISyFr9anto4MIv",
      "authorship_tag": "ABX9TyPQx1JsO+LchJT/VQT/Y18s"
    },
    "kernelspec": {
      "name": "python3",
      "display_name": "Python 3"
    },
    "language_info": {
      "name": "python"
    },
    "accelerator": "GPU"
  },
  "cells": [
    {
      "cell_type": "markdown",
      "metadata": {
        "id": "y1w7mUrlgvjr"
      },
      "source": [
        "Common imports"
      ]
    },
    {
      "cell_type": "code",
      "metadata": {
        "id": "qC-CtHBvgHIQ"
      },
      "source": [
        "import os\n",
        "import numpy as np\n",
        "\n",
        "# Visualization\n",
        "import matplotlib.pyplot as plt\n",
        "import matplotlib as mpl\n",
        "import seaborn as sns\n",
        "%matplotlib inline"
      ],
      "execution_count": null,
      "outputs": []
    },
    {
      "cell_type": "code",
      "metadata": {
        "id": "NzpegUbRg_yq"
      },
      "source": [
        "# Tensorflow imports\n",
        "import tensorflow as tf\n",
        "from tensorflow import keras\n",
        "from tensorflow.keras.preprocessing.image import ImageDataGenerator"
      ],
      "execution_count": null,
      "outputs": []
    },
    {
      "cell_type": "code",
      "metadata": {
        "id": "kYdV973bhNQT"
      },
      "source": [
        "image_folder = os.path.join('datasets','face_dataset_train_images')\n",
        "img_height, img_width = 250,250\n",
        "num_classes = 2 #me notme"
      ],
      "execution_count": null,
      "outputs": []
    },
    {
      "cell_type": "markdown",
      "metadata": {
        "id": "T7rEs3Y7h7HZ"
      },
      "source": [
        "Look at the data"
      ]
    },
    {
      "cell_type": "code",
      "metadata": {
        "id": "Ejx9vSl5hu8-"
      },
      "source": [
        "dataset = keras.preprocessing.image_dataset_from_directory(image_folder,seed=42,image_size=(img_height,img_width),label_mode='categorical',shuffle=True)"
      ],
      "execution_count": null,
      "outputs": []
    },
    {
      "cell_type": "code",
      "metadata": {
        "id": "L1V_D2eKiLLa"
      },
      "source": [
        "class_names = dataset.class_names\n",
        "class_names"
      ],
      "execution_count": null,
      "outputs": []
    },
    {
      "cell_type": "code",
      "metadata": {
        "id": "pxSN0_xviUk1"
      },
      "source": [
        "# Helper function to get classname of the image\n",
        "def get_classname(class_name,mask):\n",
        "  '''\n",
        "    Returns an element of the array 'class_names' with the index\n",
        "    where the maximum value from the 'mask' array is located.\n",
        "    Used to get classname with categorical labels.\n",
        "\n",
        "    Parameters:\n",
        "        class_names (array-like): Target array\n",
        "        mask (array-like): Mask array, elements must be numbers\n",
        "    Returns:\n",
        "        One of the element from 'class_names'\n",
        "\n",
        "    >>> get_classname(['first', 'second'], [0, 1])\n",
        "    'second'\n",
        "    >>> get_classname(['first', 'second', third], [1, 0, 0])\n",
        "    'first'\n",
        "    '''\n",
        "  assert len(class_names) == len(mask),\"the arrays must of the same length\"\n",
        "  return class_name[np.array(mask).argmax(axis=0)]"
      ],
      "execution_count": null,
      "outputs": []
    },
    {
      "cell_type": "code",
      "metadata": {
        "id": "2s8fxz73ispM"
      },
      "source": [
        "sqrt_img = 2 #images per row/col\n",
        "# the square root of the total number of images shown\n",
        "\n",
        "plt.figure(figsize=(8,8))\n",
        "for images,labels in dataset.take(3):\n",
        "  for index in range(sqrt_img**2):\n",
        "    # grid 'sqrt_img' x 'sqrt_img'\n",
        "    plt.subplot(sqrt_img,sqrt_img,index+1)\n",
        "    plt.imshow(images[index]/255)\n",
        "    class_name = get_classname(class_names,labels[index])\n",
        "    plt.axis(\"off\")"
      ],
      "execution_count": null,
      "outputs": []
    },
    {
      "cell_type": "markdown",
      "metadata": {
        "id": "k77iN8IzjxB2"
      },
      "source": [
        "Data Augmentation"
      ]
    },
    {
      "cell_type": "code",
      "metadata": {
        "id": "owVIYKZ1kfkr"
      },
      "source": [
        "batch_size=16"
      ],
      "execution_count": null,
      "outputs": []
    },
    {
      "cell_type": "code",
      "metadata": {
        "id": "R8k8S2dCjue8"
      },
      "source": [
        "train_datagen = ImageDataGenerator(\n",
        "    rotation_range = 20,\n",
        "    width_shift_range=0.2,\n",
        "    height_shift_range=0.2,\n",
        "    brightness_range=(0.7,1),\n",
        "    shear_range=0.2,\n",
        "    zoom_range=0.2,\n",
        "    horizontal_flip=True,\n",
        "    vertical_flip=False,\n",
        "    fill_mode='nearest')\n",
        "\n",
        "train_generator = train_datagen.flow_from_directory(\n",
        "    image_folder,\n",
        "    target_size=(img_height,img_width),\n",
        "    batch_size=batch_size,\n",
        "    class_mode='categorical'\n",
        ")"
      ],
      "execution_count": null,
      "outputs": []
    },
    {
      "cell_type": "code",
      "metadata": {
        "id": "lTchh2cMjqoT"
      },
      "source": [
        "# To see next augmented image\n",
        "image,label = train_generator.next()\n",
        "\n",
        "plt.figure(figsize=(6,6))\n",
        "plt.imshow(image[0]/255)\n",
        "plt.title(\"Augmented image from ImageDataGenerator\")\n",
        "plt.axis(\"off\")"
      ],
      "execution_count": null,
      "outputs": []
    },
    {
      "cell_type": "markdown",
      "metadata": {
        "id": "mBcN0eUoljQQ"
      },
      "source": [
        "Generate n samples for each image"
      ]
    },
    {
      "cell_type": "code",
      "metadata": {
        "id": "Upw_Po5vlQcV"
      },
      "source": [
        "n=10\n",
        "aug_img_folder = os.path.join('datasets','face_dataset_train_aug_image')\n",
        "if not os.path.exists(aug_img_folder):\n",
        "  os.makedirs(aur_img_folder)"
      ],
      "execution_count": null,
      "outputs": []
    },
    {
      "cell_type": "code",
      "metadata": {
        "id": "e24M5FDWl4Ij"
      },
      "source": [
        "# classes: 'me' and 'not_me'\n",
        "image_folder_to_generate = os.path.join(image_folder,'me')\n",
        "image_folder_to_save = os.path.join(aug_img_folder,'me')\n",
        "if not os.path.exists(image_folder_to_save):\n",
        "  os.makedirs(image_folder_to_save)\n",
        "\n",
        "i=0\n",
        "total = len(os.listdir(image_folder_to_generate)) #number of foles in folder\n",
        "for filename in os.listdir(image_folder_to_generate):\n",
        "  print(\"Step {} of {}\".format(i+1,total))\n",
        "  # for each image in folder: read it\n",
        "  image_path = os.path.join(image_folder_to_generate,filename)\n",
        "  image = keras.preprocessing.image.load_img(image_path,target_size=(img_height,img_width,3))\n",
        "  image = keras.preprocessing.image.img_to_array(image)\n",
        "  # shape from (250,250,3) to (1,250,250,3)\n",
        "  image = np.extend_dims(image,axis=0)\n",
        "\n",
        "  # create ImageDataGenerator object for it\n",
        "  current_image_gen = train_datagen.flow(image,\n",
        "                                         batch_size=1,\n",
        "                                         save_to_dir=image_folder_to_save,\n",
        "                                         save_prefix=filename,\n",
        "                                         save_format='jpg')\n",
        "  # generate n samples\n",
        "  count=0\n",
        "  for image in current_image_gen: #accessing the object saves the image to disk\n",
        "    count+=1\n",
        "    if count==n:\n",
        "      break\n",
        "  print('\\tGenerate {} samples for file {}'.format(n,filename))\n",
        "  i+=1\n",
        "print(\"\\nTotal number images generated = {}\".format(n*total))\n"
      ],
      "execution_count": null,
      "outputs": []
    },
    {
      "cell_type": "code",
      "metadata": {
        "id": "j6AHDkoBoQu6"
      },
      "source": [
        ""
      ],
      "execution_count": null,
      "outputs": []
    }
  ]
}