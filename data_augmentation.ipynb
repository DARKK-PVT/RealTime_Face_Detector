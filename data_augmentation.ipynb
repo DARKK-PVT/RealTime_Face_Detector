{
  "nbformat": 4,
  "nbformat_minor": 0,
  "metadata": {
    "colab": {
      "name": "data_augmentation.ipynb",
      "provenance": [],
      "collapsed_sections": [],
      "machine_shape": "hm",
      "mount_file_id": "1uVZyzCg9F2xy1o18YHISyFr9anto4MIv",
      "authorship_tag": "ABX9TyM6IRn033M3lX9sswUOgXIA"
    },
    "kernelspec": {
      "name": "python3",
      "display_name": "Python 3"
    },
    "language_info": {
      "name": "python"
    },
    "accelerator": "GPU"
  },
  "cells": [
    {
      "cell_type": "markdown",
      "metadata": {
        "id": "y1w7mUrlgvjr"
      },
      "source": [
        "Common imports"
      ]
    },
    {
      "cell_type": "code",
      "metadata": {
        "id": "qC-CtHBvgHIQ"
      },
      "source": [
        "import os\n",
        "import numpy as np\n",
        "\n",
        "# Visualization\n",
        "import matplotlib.pyplot as plt\n",
        "import matplotlib as mpl\n",
        "import seaborn as sns\n",
        "%matplotlib inline"
      ],
      "execution_count": 19,
      "outputs": []
    },
    {
      "cell_type": "code",
      "metadata": {
        "id": "NzpegUbRg_yq"
      },
      "source": [
        "# Tensorflow imports\n",
        "import tensorflow as tf\n",
        "from tensorflow import keras\n",
        "from tensorflow.keras.preprocessing.image import ImageDataGenerator"
      ],
      "execution_count": 20,
      "outputs": []
    },
    {
      "cell_type": "code",
      "metadata": {
        "id": "kYdV973bhNQT"
      },
      "source": [
        "image_folder = os.path.join('dataset','trainImages')\n",
        "img_height, img_width = 250,250\n",
        "num_classes = 2 #me notme"
      ],
      "execution_count": 21,
      "outputs": []
    },
    {
      "cell_type": "markdown",
      "metadata": {
        "id": "T7rEs3Y7h7HZ"
      },
      "source": [
        "Look at the data"
      ]
    },
    {
      "cell_type": "code",
      "metadata": {
        "id": "Ejx9vSl5hu8-",
        "colab": {
          "base_uri": "https://localhost:8080/"
        },
        "outputId": "743902a3-034d-4085-cd85-2156d2a6683a"
      },
      "source": [
        "dataset = keras.preprocessing.image_dataset_from_directory(image_folder,seed=42,image_size=(img_height,img_width),label_mode='categorical',shuffle=True)"
      ],
      "execution_count": 22,
      "outputs": [
        {
          "output_type": "stream",
          "name": "stdout",
          "text": [
            "Found 122 files belonging to 2 classes.\n"
          ]
        }
      ]
    },
    {
      "cell_type": "code",
      "metadata": {
        "id": "L1V_D2eKiLLa",
        "colab": {
          "base_uri": "https://localhost:8080/"
        },
        "outputId": "d345b7f7-3f01-4f93-8280-3463f71898d4"
      },
      "source": [
        "class_names = dataset.class_names\n",
        "class_names"
      ],
      "execution_count": 23,
      "outputs": [
        {
          "output_type": "execute_result",
          "data": {
            "text/plain": [
              "['me', 'not_me']"
            ]
          },
          "metadata": {},
          "execution_count": 23
        }
      ]
    },
    {
      "cell_type": "markdown",
      "metadata": {
        "id": "k77iN8IzjxB2"
      },
      "source": [
        "Data Augmentation"
      ]
    },
    {
      "cell_type": "code",
      "metadata": {
        "id": "R8k8S2dCjue8"
      },
      "source": [
        "train_datagen = ImageDataGenerator(\n",
        "    rotation_range = 20,\n",
        "    width_shift_range=0.2,\n",
        "    height_shift_range=0.2,\n",
        "    brightness_range=(0.7,1),\n",
        "    shear_range=0.2,\n",
        "    zoom_range=0.2,\n",
        "    horizontal_flip=True,\n",
        "    vertical_flip=False,\n",
        "    fill_mode='nearest')"
      ],
      "execution_count": 24,
      "outputs": []
    },
    {
      "cell_type": "markdown",
      "metadata": {
        "id": "mBcN0eUoljQQ"
      },
      "source": [
        "Generate n samples for each image"
      ]
    },
    {
      "cell_type": "code",
      "metadata": {
        "id": "Upw_Po5vlQcV"
      },
      "source": [
        "n=10\n",
        "aug_img_folder = os.path.join('dataset','face_dataset_train_aug_image')\n",
        "if not os.path.exists(aug_img_folder):\n",
        "  os.makedirs(aug_img_folder)"
      ],
      "execution_count": 25,
      "outputs": []
    },
    {
      "cell_type": "code",
      "metadata": {
        "id": "e24M5FDWl4Ij",
        "colab": {
          "base_uri": "https://localhost:8080/"
        },
        "outputId": "78632834-77be-4358-bf9d-3a924d80f46a"
      },
      "source": [
        "# classes: 'me' and 'not_me'\n",
        "image_folder_to_generate = os.path.join(image_folder,'me')\n",
        "image_folder_to_save = os.path.join(aug_img_folder,'me')\n",
        "if not os.path.exists(image_folder_to_save):\n",
        "  os.makedirs(image_folder_to_save)\n",
        "\n",
        "i=0\n",
        "total = len(os.listdir(image_folder_to_generate)) #number of foles in folder\n",
        "for filename in os.listdir(image_folder_to_generate):\n",
        "  print(\"Step {} of {}\".format(i+1,total))\n",
        "  # for each image in folder: read it\n",
        "  image_path = os.path.join(image_folder_to_generate,filename)\n",
        "  image = keras.preprocessing.image.load_img(image_path,target_size=(img_height,img_width,3))\n",
        "  image = keras.preprocessing.image.img_to_array(image)\n",
        "  # shape from (250,250,3) to (1,250,250,3)\n",
        "  image = np.expand_dims(image,axis=0)\n",
        "\n",
        "  # create ImageDataGenerator object for it\n",
        "  current_image_gen = train_datagen.flow(image,\n",
        "                                         batch_size=1,\n",
        "                                         save_to_dir=image_folder_to_save,\n",
        "                                         save_prefix=filename,\n",
        "                                         save_format='jpg')\n",
        "  # generate n samples\n",
        "  count=0\n",
        "  for image in current_image_gen: #accessing the object saves the image to disk\n",
        "    count+=1\n",
        "    if count==n:\n",
        "      break\n",
        "  print('\\tGenerate {} samples for file {}'.format(n,filename))\n",
        "  i+=1\n",
        "print(\"\\nTotal number images generated = {}\".format(n*total))\n"
      ],
      "execution_count": 26,
      "outputs": [
        {
          "output_type": "stream",
          "name": "stdout",
          "text": [
            "Step 1 of 70\n",
            "\tGenerate 10 samples for file IMG-20190822-WA0001.jpg\n",
            "Step 2 of 70\n",
            "\tGenerate 10 samples for file IMG_1294.jpg\n",
            "Step 3 of 70\n",
            "\tGenerate 10 samples for file IMG_20200308_125514.jpg\n",
            "Step 4 of 70\n",
            "\tGenerate 10 samples for file IMG-20181219-WA0021.jpg\n",
            "Step 5 of 70\n",
            "\tGenerate 10 samples for file PXL_20201005_132205964.NIGHT.jpg\n",
            "Step 6 of 70\n",
            "\tGenerate 10 samples for file PXL_20201207_044839571.jpg\n",
            "Step 7 of 70\n",
            "\tGenerate 10 samples for file IMG_1291.jpg\n",
            "Step 8 of 70\n",
            "\tGenerate 10 samples for file PXL_20210227_033714412.PORTRAIT.jpg\n",
            "Step 9 of 70\n",
            "\tGenerate 10 samples for file instasize_210522184941.jpg\n",
            "Step 10 of 70\n",
            "\tGenerate 10 samples for file IMG_1295.jpg\n",
            "Step 11 of 70\n",
            "\tGenerate 10 samples for file RenderedImage.jpg\n",
            "Step 12 of 70\n",
            "\tGenerate 10 samples for file IMG_20200318_003322.jpg\n",
            "Step 13 of 70\n",
            "\tGenerate 10 samples for file IMG_20200320_162135.jpg\n",
            "Step 14 of 70\n",
            "\tGenerate 10 samples for file PXL_20210227_034121661.jpg\n",
            "Step 15 of 70\n",
            "\tGenerate 10 samples for file IMG_20190321_194149.jpg\n",
            "Step 16 of 70\n",
            "\tGenerate 10 samples for file IMG_1285.jpg\n",
            "Step 17 of 70\n",
            "\tGenerate 10 samples for file IMG_0760.jpg\n",
            "Step 18 of 70\n",
            "\tGenerate 10 samples for file IMG_20181214_221109.jpg\n",
            "Step 19 of 70\n",
            "\tGenerate 10 samples for file IMG_1286.jpg\n",
            "Step 20 of 70\n",
            "\tGenerate 10 samples for file PXL_20210227_033831727.PORTRAIT.jpg\n",
            "Step 21 of 70\n",
            "\tGenerate 10 samples for file IMG_1192.jpg\n",
            "Step 22 of 70\n",
            "\tGenerate 10 samples for file PXL_20201115_070223248.PORTRAIT-01.COVER.jpg\n",
            "Step 23 of 70\n",
            "\tGenerate 10 samples for file IMG-20210226-WA0034.jpg\n",
            "Step 24 of 70\n",
            "\tGenerate 10 samples for file IMG_20201025_112313_670.jpg\n",
            "Step 25 of 70\n",
            "\tGenerate 10 samples for file IMG_20200503_170857_571.jpg\n",
            "Step 26 of 70\n",
            "\tGenerate 10 samples for file IMG_20200203_221455~2.jpg\n",
            "Step 27 of 70\n",
            "\tGenerate 10 samples for file IMG_0198.jpg\n",
            "Step 28 of 70\n",
            "\tGenerate 10 samples for file IMG_1287.jpg\n",
            "Step 29 of 70\n",
            "\tGenerate 10 samples for file IMG_20210522_185316_651.jpg\n",
            "Step 30 of 70\n",
            "\tGenerate 10 samples for file IMG_1275.jpg\n",
            "Step 31 of 70\n",
            "\tGenerate 10 samples for file IMG_20200917_204645_762.jpg\n",
            "Step 32 of 70\n",
            "\tGenerate 10 samples for file IMG-20181111-WA0007.jpg\n",
            "Step 33 of 70\n",
            "\tGenerate 10 samples for file IMG-20190908-WA0000.jpg\n",
            "Step 34 of 70\n",
            "\tGenerate 10 samples for file IMG_20200503_203755.jpg\n",
            "Step 35 of 70\n",
            "\tGenerate 10 samples for file IMG_1293.jpg\n",
            "Step 36 of 70\n",
            "\tGenerate 10 samples for file PXL_20201005_132428279.NIGHT.jpg\n",
            "Step 37 of 70\n",
            "\tGenerate 10 samples for file IMG_0437.jpg\n",
            "Step 38 of 70\n",
            "\tGenerate 10 samples for file PXL_20210325_035310926.jpg\n",
            "Step 39 of 70\n",
            "\tGenerate 10 samples for file IMG_1015.jpg\n",
            "Step 40 of 70\n",
            "\tGenerate 10 samples for file IMG_0629.jpg\n",
            "Step 41 of 70\n",
            "\tGenerate 10 samples for file IMG_1273.jpg\n",
            "Step 42 of 70\n",
            "\tGenerate 10 samples for file PXL_20201005_132422131.NIGHT.jpg\n",
            "Step 43 of 70\n",
            "\tGenerate 10 samples for file PXL_20210203_044559415.PORTRAIT~3.jpg\n",
            "Step 44 of 70\n",
            "\tGenerate 10 samples for file instasize_210522184755.jpg\n",
            "Step 45 of 70\n",
            "\tGenerate 10 samples for file PXL_20201005_132457646.NIGHT.jpg\n",
            "Step 46 of 70\n",
            "\tGenerate 10 samples for file IMG_1006.jpg\n",
            "Step 47 of 70\n",
            "\tGenerate 10 samples for file IMG_20200320_162202.jpg\n",
            "Step 48 of 70\n",
            "\tGenerate 10 samples for file IMG_1274.jpg\n",
            "Step 49 of 70\n",
            "\tGenerate 10 samples for file IMG_1193.jpg\n",
            "Step 50 of 70\n",
            "\tGenerate 10 samples for file PXL_20201005_132443471.NIGHT.jpg\n",
            "Step 51 of 70\n",
            "\tGenerate 10 samples for file IMG_20181214_221239.jpg\n",
            "Step 52 of 70\n",
            "\tGenerate 10 samples for file IMG-20190822-WA0003.jpg\n",
            "Step 53 of 70\n",
            "\tGenerate 10 samples for file IMG_20210209_205906_209.jpg\n",
            "Step 54 of 70\n",
            "\tGenerate 10 samples for file IMG_20190321_202612.jpg\n",
            "Step 55 of 70\n",
            "\tGenerate 10 samples for file IMG_1014.jpg\n",
            "Step 56 of 70\n",
            "\tGenerate 10 samples for file IMG_20200321_094118.jpg\n",
            "Step 57 of 70\n",
            "\tGenerate 10 samples for file IMG_20191208_131240.jpg\n",
            "Step 58 of 70\n",
            "\tGenerate 10 samples for file IMG_20200307_180226.jpg\n",
            "Step 59 of 70\n",
            "\tGenerate 10 samples for file IMG_0229.jpg\n",
            "Step 60 of 70\n",
            "\tGenerate 10 samples for file IMG_1292.jpg\n",
            "Step 61 of 70\n",
            "\tGenerate 10 samples for file PXL_20210124_065626543.PORTRAIT.jpg\n",
            "Step 62 of 70\n",
            "\tGenerate 10 samples for file IMG_0265.jpg\n",
            "Step 63 of 70\n",
            "\tGenerate 10 samples for file PXL_20210227_033638056.jpg\n",
            "Step 64 of 70\n",
            "\tGenerate 10 samples for file PXL_20210124_065547962.jpg\n",
            "Step 65 of 70\n",
            "\tGenerate 10 samples for file IMG_2799.jpg\n",
            "Step 66 of 70\n",
            "\tGenerate 10 samples for file IMG_0197.jpg\n",
            "Step 67 of 70\n",
            "\tGenerate 10 samples for file Snapchat-1180251034.jpg\n",
            "Step 68 of 70\n",
            "\tGenerate 10 samples for file IMG_1290.jpg\n",
            "Step 69 of 70\n",
            "\tGenerate 10 samples for file IMG_20200904_212049~3.jpg\n",
            "Step 70 of 70\n",
            "\tGenerate 10 samples for file Snapchat-1834820744~2.jpg\n",
            "\n",
            "Total number images generated = 700\n"
          ]
        }
      ]
    }
  ]
}